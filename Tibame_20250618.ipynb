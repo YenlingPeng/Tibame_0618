{
  "nbformat": 4,
  "nbformat_minor": 0,
  "metadata": {
    "colab": {
      "provenance": [],
      "authorship_tag": "ABX9TyPE+/Gjh/DYkn60ZqCGJcjf",
      "include_colab_link": true
    },
    "kernelspec": {
      "name": "python3",
      "display_name": "Python 3"
    },
    "language_info": {
      "name": "python"
    }
  },
  "cells": [
    {
      "cell_type": "markdown",
      "metadata": {
        "id": "view-in-github",
        "colab_type": "text"
      },
      "source": [
        "<a href=\"https://colab.research.google.com/github/YenlingPeng/Tibame_0618/blob/master/Tibame_20250618.ipynb\" target=\"_parent\"><img src=\"https://colab.research.google.com/assets/colab-badge.svg\" alt=\"Open In Colab\"/></a>"
      ]
    },
    {
      "cell_type": "code",
      "execution_count": 2,
      "metadata": {
        "colab": {
          "base_uri": "https://localhost:8080/"
        },
        "id": "wLpVzaXJq-YF",
        "outputId": "8f36c490-52a2-41e3-e314-63dbbaaba690"
      },
      "outputs": [
        {
          "output_type": "execute_result",
          "data": {
            "text/plain": [
              "3"
            ]
          },
          "metadata": {},
          "execution_count": 2
        }
      ],
      "source": [
        "a = 1\n",
        "b = 2\n",
        "a+b"
      ]
    },
    {
      "cell_type": "markdown",
      "source": [
        "\n",
        "1. 功能：Print(參數)\n",
        "2. 註解 # 空格再開始寫\n",
        "\n",
        "\n"
      ],
      "metadata": {
        "id": "p16kXoK51pRB"
      }
    },
    {
      "cell_type": "markdown",
      "source": [
        "Latex Math\n",
        "$ a = \\pi \\frac{1}{2-\\gamma} $"
      ],
      "metadata": {
        "id": "QBS_GKksxqP0"
      }
    },
    {
      "cell_type": "code",
      "source": [
        "# 判斷年月日是否合理的程式\n",
        "# 閏年的判斷（影響日）\n",
        "\n"
      ],
      "metadata": {
        "id": "EJqRk_w92rQY"
      },
      "execution_count": 7,
      "outputs": []
    }
  ]
}